{
 "cells": [
  {
   "cell_type": "code",
   "execution_count": 2,
   "metadata": {},
   "outputs": [],
   "source": [
    "import cv2\n",
    "import numpy as np\n",
    "import imutils\n",
    "import matplotlib.pyplot as plt\n",
    "import pandas as pd\n",
    "%matplotlib inline"
   ]
  },
  {
   "cell_type": "code",
   "execution_count": 192,
   "metadata": {},
   "outputs": [],
   "source": [
    "def mostrar_imagen(titulo,imagen):\n",
    "    imagen = cv2.cvtColor(imagen,cv2.COLOR_BGR2RGB)\n",
    "    plt.imshow(imagen)\n",
    "    plt.title(titulo)\n",
    "    plt.grid(False)\n",
    "    plt.xticks([])\n",
    "    plt.yticks([])\n",
    "    plt.show()"
   ]
  },
  {
   "cell_type": "markdown",
   "metadata": {},
   "source": [
    "## Almacenar las imagenes tratadas"
   ]
  },
  {
   "cell_type": "code",
   "execution_count": null,
   "metadata": {},
   "outputs": [],
   "source": [
    "n = 16 #número de fotos por cada seña 4 veces a 4 personas\n",
    "etiquetas = [\"adios\", \"buenos\" ,\"dias\", \"hola\", \"hombre\", \"mujer\", \"noches\", \"tardes\", \"tu\", \"yo\"]\n",
    "\n",
    "for etiq in etiquetas:\n",
    "\n",
    "    for i in range (n):\n",
    "        print(\"Seña {} N° {}\".format(etiq,i+1))\n",
    "        #Leer\n",
    "        image = cv2.imread(\"./imagenes/{}/{} ({}).jpg\".format(etiq,etiq,i+1))\n",
    "        #Convertir a gris\n",
    "        gris = cv2.cvtColor(image, cv2.COLOR_BGR2GRAY)\n",
    "\n",
    "        #Esta parte es para convertir a cuadrado, puede omitirse si la \n",
    "        #Foto se toma en un aspect ratio de 1:1\n",
    "        recortado = gris[300:2300,150:2150] # Esto puede variar según la imagen\n",
    "\n",
    "        #Convertir a 28 x 28\n",
    "        r = 28.0/recortado.shape[1]\n",
    "        dim = (28, int(recortado.shape[0]*r))\n",
    "        redim = cv2.resize(recortado, dim, cv2.INTER_AREA)\n",
    "        redim = imutils.resize(recortado, width=28)\n",
    "\n",
    "        #Almacenar en una carpeta denominada 28p\n",
    "        cv2.imwrite(\"imagenes/{}/28p/\"\"img {}.jpg\".format(etiq,i),redim)\n",
    "\n",
    "\n"
   ]
  },
  {
   "cell_type": "markdown",
   "metadata": {},
   "source": [
    "## Guardar en un Dataframe"
   ]
  },
  {
   "cell_type": "code",
   "execution_count": 7,
   "metadata": {},
   "outputs": [
    {
     "data": {
      "text/html": [
       "<div>\n",
       "<style scoped>\n",
       "    .dataframe tbody tr th:only-of-type {\n",
       "        vertical-align: middle;\n",
       "    }\n",
       "\n",
       "    .dataframe tbody tr th {\n",
       "        vertical-align: top;\n",
       "    }\n",
       "\n",
       "    .dataframe thead th {\n",
       "        text-align: right;\n",
       "    }\n",
       "</style>\n",
       "<table border=\"1\" class=\"dataframe\">\n",
       "  <thead>\n",
       "    <tr style=\"text-align: right;\">\n",
       "      <th></th>\n",
       "      <th>label</th>\n",
       "      <th>pixel 0</th>\n",
       "      <th>pixel 1</th>\n",
       "      <th>pixel 2</th>\n",
       "      <th>pixel 3</th>\n",
       "      <th>pixel 4</th>\n",
       "      <th>pixel 5</th>\n",
       "      <th>pixel 6</th>\n",
       "      <th>pixel 7</th>\n",
       "      <th>pixel 8</th>\n",
       "      <th>...</th>\n",
       "      <th>pixel 774</th>\n",
       "      <th>pixel 775</th>\n",
       "      <th>pixel 776</th>\n",
       "      <th>pixel 777</th>\n",
       "      <th>pixel 778</th>\n",
       "      <th>pixel 779</th>\n",
       "      <th>pixel 780</th>\n",
       "      <th>pixel 781</th>\n",
       "      <th>pixel 782</th>\n",
       "      <th>pixel 783</th>\n",
       "    </tr>\n",
       "  </thead>\n",
       "  <tbody>\n",
       "  </tbody>\n",
       "</table>\n",
       "<p>0 rows × 785 columns</p>\n",
       "</div>"
      ],
      "text/plain": [
       "Empty DataFrame\n",
       "Columns: [label, pixel 0, pixel 1, pixel 2, pixel 3, pixel 4, pixel 5, pixel 6, pixel 7, pixel 8, pixel 9, pixel 10, pixel 11, pixel 12, pixel 13, pixel 14, pixel 15, pixel 16, pixel 17, pixel 18, pixel 19, pixel 20, pixel 21, pixel 22, pixel 23, pixel 24, pixel 25, pixel 26, pixel 27, pixel 28, pixel 29, pixel 30, pixel 31, pixel 32, pixel 33, pixel 34, pixel 35, pixel 36, pixel 37, pixel 38, pixel 39, pixel 40, pixel 41, pixel 42, pixel 43, pixel 44, pixel 45, pixel 46, pixel 47, pixel 48, pixel 49, pixel 50, pixel 51, pixel 52, pixel 53, pixel 54, pixel 55, pixel 56, pixel 57, pixel 58, pixel 59, pixel 60, pixel 61, pixel 62, pixel 63, pixel 64, pixel 65, pixel 66, pixel 67, pixel 68, pixel 69, pixel 70, pixel 71, pixel 72, pixel 73, pixel 74, pixel 75, pixel 76, pixel 77, pixel 78, pixel 79, pixel 80, pixel 81, pixel 82, pixel 83, pixel 84, pixel 85, pixel 86, pixel 87, pixel 88, pixel 89, pixel 90, pixel 91, pixel 92, pixel 93, pixel 94, pixel 95, pixel 96, pixel 97, pixel 98, ...]\n",
       "Index: []\n",
       "\n",
       "[0 rows x 785 columns]"
      ]
     },
     "execution_count": 7,
     "metadata": {},
     "output_type": "execute_result"
    }
   ],
   "source": [
    "##Creación del Dataframe\n",
    "\n",
    "# columna \n",
    "col = [\"label\"]\n",
    "for i in range(784):\n",
    "    col.append(\"pixel {}\".format(i))\n",
    "\n",
    "df = pd.DataFrame(columns=col)\n",
    "df.head()"
   ]
  },
  {
   "cell_type": "code",
   "execution_count": 9,
   "metadata": {},
   "outputs": [
    {
     "data": {
      "text/html": [
       "<div>\n",
       "<style scoped>\n",
       "    .dataframe tbody tr th:only-of-type {\n",
       "        vertical-align: middle;\n",
       "    }\n",
       "\n",
       "    .dataframe tbody tr th {\n",
       "        vertical-align: top;\n",
       "    }\n",
       "\n",
       "    .dataframe thead th {\n",
       "        text-align: right;\n",
       "    }\n",
       "</style>\n",
       "<table border=\"1\" class=\"dataframe\">\n",
       "  <thead>\n",
       "    <tr style=\"text-align: right;\">\n",
       "      <th></th>\n",
       "      <th>label</th>\n",
       "      <th>pixel 0</th>\n",
       "      <th>pixel 1</th>\n",
       "      <th>pixel 2</th>\n",
       "      <th>pixel 3</th>\n",
       "      <th>pixel 4</th>\n",
       "      <th>pixel 5</th>\n",
       "      <th>pixel 6</th>\n",
       "      <th>pixel 7</th>\n",
       "      <th>pixel 8</th>\n",
       "      <th>...</th>\n",
       "      <th>pixel 774</th>\n",
       "      <th>pixel 775</th>\n",
       "      <th>pixel 776</th>\n",
       "      <th>pixel 777</th>\n",
       "      <th>pixel 778</th>\n",
       "      <th>pixel 779</th>\n",
       "      <th>pixel 780</th>\n",
       "      <th>pixel 781</th>\n",
       "      <th>pixel 782</th>\n",
       "      <th>pixel 783</th>\n",
       "    </tr>\n",
       "  </thead>\n",
       "  <tbody>\n",
       "    <tr>\n",
       "      <th>0</th>\n",
       "      <td>1</td>\n",
       "      <td>NaN</td>\n",
       "      <td>NaN</td>\n",
       "      <td>NaN</td>\n",
       "      <td>NaN</td>\n",
       "      <td>NaN</td>\n",
       "      <td>NaN</td>\n",
       "      <td>NaN</td>\n",
       "      <td>NaN</td>\n",
       "      <td>NaN</td>\n",
       "      <td>...</td>\n",
       "      <td>NaN</td>\n",
       "      <td>NaN</td>\n",
       "      <td>NaN</td>\n",
       "      <td>NaN</td>\n",
       "      <td>NaN</td>\n",
       "      <td>NaN</td>\n",
       "      <td>NaN</td>\n",
       "      <td>NaN</td>\n",
       "      <td>NaN</td>\n",
       "      <td>NaN</td>\n",
       "    </tr>\n",
       "  </tbody>\n",
       "</table>\n",
       "<p>1 rows × 785 columns</p>\n",
       "</div>"
      ],
      "text/plain": [
       "  label pixel 0 pixel 1 pixel 2 pixel 3 pixel 4 pixel 5 pixel 6 pixel 7  \\\n",
       "0     1     NaN     NaN     NaN     NaN     NaN     NaN     NaN     NaN   \n",
       "\n",
       "  pixel 8  ... pixel 774 pixel 775 pixel 776 pixel 777 pixel 778 pixel 779  \\\n",
       "0     NaN  ...       NaN       NaN       NaN       NaN       NaN       NaN   \n",
       "\n",
       "  pixel 780 pixel 781 pixel 782 pixel 783  \n",
       "0       NaN       NaN       NaN       NaN  \n",
       "\n",
       "[1 rows x 785 columns]"
      ]
     },
     "execution_count": 9,
     "metadata": {},
     "output_type": "execute_result"
    }
   ],
   "source": [
    "df.at[0,'label'] = 1\n",
    "df.head()"
   ]
  },
  {
   "cell_type": "code",
   "execution_count": 12,
   "metadata": {},
   "outputs": [
    {
     "name": "stdout",
     "output_type": "stream",
     "text": [
      "160\n"
     ]
    }
   ],
   "source": [
    "print(redim[0,0])"
   ]
  },
  {
   "cell_type": "code",
   "execution_count": null,
   "metadata": {},
   "outputs": [],
   "source": [
    "n = 16 #número de fotos por cada seña 4 veces a 4 personas\n",
    "etiquetas = [\"adios\", \"buenos\" ,\"dias\", \"hola\", \"hombre\", \"mujer\", \"noches\", \"tardes\", \"tu\", \"yo\"]\n",
    "num_etiq = 0\n",
    "for etiq in etiquetas:\n",
    "\n",
    "    for i in range (n):\n",
    "        print(\"Seña {} N° {}\".format(etiq,i+1))\n",
    "        #Leer\n",
    "        image = cv2.imread(\"./imagenes/{}/{} ({}).jpg\".format(etiq,etiq,i+1))\n",
    "        #Convertir a gris\n",
    "        gris = cv2.cvtColor(image, cv2.COLOR_BGR2GRAY)\n",
    "\n",
    "        #Esta parte es para convertir a cuadrado, puede omitirse si la \n",
    "        #Foto se toma en un aspect ratio de 1:1\n",
    "        recortado = gris[300:2300,150:2150] # Esto puede variar según la imagen\n",
    "\n",
    "        #Convertir a 28 x 28\n",
    "        r = 28.0/recortado.shape[1]\n",
    "        dim = (28, int(recortado.shape[0]*r))\n",
    "        redim = cv2.resize(recortado, dim, cv2.INTER_AREA)\n",
    "        redim = imutils.resize(recortado, width=28)\n",
    "\n",
    "        #Almacenar en el dataframe\n",
    "        for x in range(28):\n",
    "            for y in range(28):\n",
    "                df.at[num_etiq*n + i, 'label'] = etiq\n",
    "                df.at[num_etiq*n + i, 'pixel {}'.format(x*28+y)] = redim[x,y]\n",
    "\n",
    "    num_etiq = num_etiq + 1\n"
   ]
  },
  {
   "cell_type": "code",
   "execution_count": 29,
   "metadata": {},
   "outputs": [],
   "source": [
    "# Realizamos un barajeo \n",
    "df = df.sample(frac = 1)\n",
    "\n",
    "# y finalmente guardamos en un documento .csv\n",
    "df.to_csv(\"resultado.csv\")"
   ]
  }
 ],
 "metadata": {
  "interpreter": {
   "hash": "8fac594bfae6525c0c41b4041d2d72effa188cc8ead05f81b1fab2bb098927fb"
  },
  "kernelspec": {
   "display_name": "Python 3.8.8 64-bit ('base': conda)",
   "language": "python",
   "name": "python3"
  },
  "language_info": {
   "codemirror_mode": {
    "name": "ipython",
    "version": 3
   },
   "file_extension": ".py",
   "mimetype": "text/x-python",
   "name": "python",
   "nbconvert_exporter": "python",
   "pygments_lexer": "ipython3",
   "version": "3.8.8"
  },
  "orig_nbformat": 4
 },
 "nbformat": 4,
 "nbformat_minor": 2
}
